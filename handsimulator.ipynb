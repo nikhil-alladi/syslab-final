{
 "cells": [
  {
   "cell_type": "code",
   "execution_count": 1,
   "metadata": {},
   "outputs": [],
   "source": [
    "import random\n",
    "import functools"
   ]
  },
  {
   "cell_type": "code",
   "execution_count": 2,
   "metadata": {},
   "outputs": [],
   "source": [
    "hands = [str(index + 1) + suit for index in range(13) for suit in [\"C\", \"D\", \"H\", \"S\"]]\n",
    "consumedBids = [False, False, False, False]\n",
    "generatedHands = [[], [], [], []]\n",
    "\n",
    "POWER_TO_DENSITY = {\n",
    "    1: 4,\n",
    "    2: 5,\n",
    "    3: 7,\n",
    "    4: 7,\n",
    "    5: 8,\n",
    "    6: 9,\n",
    "    7: 10\n",
    "}"
   ]
  },
  {
   "cell_type": "code",
   "execution_count": 3,
   "metadata": {},
   "outputs": [],
   "source": [
    "bids: list[list] = [\n",
    "    [\"1C\", None],\n",
    "    [\"1D\", None],\n",
    "    [\"1H\", None],\n",
    "    [\"2D\"]\n",
    "]\n",
    "\n",
    "usedCards = [[], [], [], [\"1C\", \"2C\", \"3C\"]]"
   ]
  },
  {
   "cell_type": "code",
   "execution_count": 4,
   "metadata": {},
   "outputs": [],
   "source": [
    "def evalHandStrength(cards: list[str]):\n",
    "    points = 0\n",
    "    weights = {\"C\": 0, \"D\": 0, \"H\": 0, \"S\": 0}\n",
    "    for card in cards:\n",
    "        if int(card[:-1]) > 10: points += int(card[:-1]) - 10\n",
    "        weights[card[-1]] += 1\n",
    "    return points, weights"
   ]
  },
  {
   "cell_type": "code",
   "execution_count": 5,
   "metadata": {},
   "outputs": [],
   "source": [
    "def orderHand(card1, card2):\n",
    "    if card1[-1] != card2[-1]: \n",
    "        if card1[-1] < card2[-1]: return -1\n",
    "        else: return 1\n",
    "    else: return int(card1[:-1]) - int(card2[:-1])"
   ]
  },
  {
   "cell_type": "code",
   "execution_count": 6,
   "metadata": {},
   "outputs": [
    {
     "name": "stdout",
     "output_type": "stream",
     "text": [
      "2D\n",
      "['5C', '8C', '11C', '12C', '5D', '6D', '13D', '9H', '3S', '4S', '9S', '11S', '12S']\n",
      "['6C', '7C', '2D', '4D', '11D', '1H', '4H', '5H', '11H', '13H', '2S', '7S', '13S']\n",
      "['4C', '9C', '10C', '1D', '7D', '9D', '12D', '7H', '12H', '1S', '5S', '6S', '10S']\n",
      "['1C', '2C', '3C', '13C', '3D', '8D', '10D', '2H', '3H', '6H', '8H', '10H', '8S']\n"
     ]
    }
   ],
   "source": [
    "finalBids = []\n",
    "for index, bidSet in enumerate(bids):\n",
    "    if any(bidSet):\n",
    "        finalBids.append([x for x in bidSet if x != None])\n",
    "        finalBids[index] = finalBids[index][-1]\n",
    "    else: finalBids[index] = None\n",
    "finalBid = [x for x in [y[-1] for y in bids] if x is not None][0]\n",
    "print(finalBid)\n",
    "\n",
    "numSuits = []\n",
    "for index, bid in enumerate(finalBids):\n",
    "    if bid: consumedBids[index] = True\n",
    "    else: numSuits[index] = None\n",
    "    bidPower, bidSuit = int(bid[0]), bid[1]\n",
    "    totalInSuit = sum([int(b[0]) for b in finalBids if bid[1] == bidSuit])\n",
    "    samples = POWER_TO_DENSITY[bidPower] \n",
    "    samples = max(samples - sum([x for x in generatedHands if bidSuit in x]), 0)\n",
    "    numSuits.append(round(samples * (bidPower / totalInSuit)))\n",
    "\n",
    "for index, bidSet in enumerate(bids):\n",
    "    if len(usedCards[index]) > 0:\n",
    "        generatedHands[index].extend(usedCards[index])\n",
    "    for card in usedCards[index]:\n",
    "        hands.remove(card)\n",
    "\n",
    "    handSubset = random.sample([x for x in hands if bidSuit in x], numSuits[index])\n",
    "    generatedHands[index].extend(handSubset)\n",
    "    \n",
    "    for card in handSubset:\n",
    "        hands.remove(card)\n",
    "\n",
    "\n",
    "\n",
    "for index, bidSet in enumerate(generatedHands):\n",
    "    handSubset = random.sample(hands, 13 - len(bidSet))\n",
    "    generatedHands[index].extend(handSubset)\n",
    "    \n",
    "    for card in handSubset:\n",
    "        hands.remove(card)\n",
    "\n",
    "for hand in generatedHands: \n",
    "    (newHand := [x for x in hand]).sort(key=functools.cmp_to_key(orderHand))\n",
    "    print(newHand)\n"
   ]
  }
 ],
 "metadata": {
  "kernelspec": {
   "display_name": "Python 3",
   "language": "python",
   "name": "python3"
  },
  "language_info": {
   "codemirror_mode": {
    "name": "ipython",
    "version": 3
   },
   "file_extension": ".py",
   "mimetype": "text/x-python",
   "name": "python",
   "nbconvert_exporter": "python",
   "pygments_lexer": "ipython3",
   "version": "3.13.0"
  }
 },
 "nbformat": 4,
 "nbformat_minor": 2
}
