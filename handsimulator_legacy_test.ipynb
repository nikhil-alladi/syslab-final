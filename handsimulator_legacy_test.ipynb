{
 "cells": [
  {
   "cell_type": "code",
   "execution_count": 1,
   "metadata": {},
   "outputs": [],
   "source": [
    "import random\n",
    "random.seed(8266)\n",
    "import functools"
   ]
  },
  {
   "cell_type": "code",
   "execution_count": null,
   "metadata": {},
   "outputs": [],
   "source": [
    "# We assume that the leading hand is north. If this is not true, the board can be easily rearranged to satisfy such a condition.\n",
    "\n",
    "hands = [str(index + 1) + suit for index in range(13) for suit in [\"C\", \"D\", \"H\", \"S\"]]\n",
    "consumedBids = [False, False, False, False]\n",
    "generatedHands = [[], [], [], []]\n",
    "\n",
    "POWER_TO_DENSITY = {\n",
    "    1: 4,\n",
    "    2: 4,\n",
    "    3: 5,\n",
    "    4: 6,\n",
    "    5: 7,\n",
    "    6: 7,\n",
    "    7: 8\n",
    "}"
   ]
  },
  {
   "cell_type": "code",
   "execution_count": null,
   "metadata": {},
   "outputs": [],
   "source": [
    "bids: list[list] = [\n",
    "    [\"1D\", \"1NT\", \"Pass\"],\n",
    "    [\"Pass\", \"Pass\", \"Pass\"],\n",
    "    [\"1H\", \"2H\", \"Pass\"],\n",
    "    [\"Pass\", \"Pass\"]\n",
    "]\n",
    "\n",
    "# usedCards = [[\"13S\"], [\"4D\"], [\"2H\"], [\"3H\"]]"
   ]
  },
  {
   "cell_type": "code",
   "execution_count": 4,
   "metadata": {},
   "outputs": [],
   "source": [
    "def evalHandStrength(cards: list[str]):\n",
    "    points = 0\n",
    "    weights = {\"C\": 0, \"D\": 0, \"H\": 0, \"S\": 0}\n",
    "    for card in cards:\n",
    "        if int(card[:-1]) > 10: points += int(card[:-1]) - 10\n",
    "        weights[card[-1]] += 1\n",
    "    return points, weights"
   ]
  },
  {
   "cell_type": "code",
   "execution_count": 5,
   "metadata": {},
   "outputs": [],
   "source": [
    "def orderHand(card1, card2):\n",
    "    if card1[-1] != card2[-1]: \n",
    "        if card1[-1] < card2[-1]: return -1\n",
    "        else: return 1\n",
    "    else: \n",
    "        if card1[:-1] == \"1\": return 1\n",
    "        if card2[:-1] == \"1\": return -1\n",
    "        return int(card1[:-1]) - int(card2[:-1])"
   ]
  },
  {
   "cell_type": "code",
   "execution_count": 6,
   "metadata": {},
   "outputs": [],
   "source": [
    "numberConversionTable = {\"10\": \"T\", \"11\": \"J\", \"12\": \"Q\", \"13\": \"K\", \"1\": \"A\"}\n",
    "def replaceNumbers(card: str):\n",
    "    for k, v in numberConversionTable.items():\n",
    "        if k in card: card = card.replace(k, v)\n",
    "    return card"
   ]
  },
  {
   "cell_type": "code",
   "execution_count": 7,
   "metadata": {},
   "outputs": [],
   "source": [
    "def split_fourths(input_list: list[list], replaceCards=False) -> str:\n",
    "    flattenedList = []\n",
    "    for i in range(sum([len(x) for x in input_list])): #38 possible bids\n",
    "        if i // 4 < len(input_list[i % 4]): \n",
    "            val = input_list[i % 4][i // 4]\n",
    "            if replaceCards: val = replaceNumbers(val)\n",
    "            flattenedList.append(val)\n",
    "        else: break\n",
    "    return \"\\n\".join([\" \".join(flattenedList[i:i+4]) for i in range(0, len(flattenedList), 4)])\n",
    "    "
   ]
  },
  {
   "cell_type": "code",
   "execution_count": 8,
   "metadata": {},
   "outputs": [
    {
     "name": "stdout",
     "output_type": "stream",
     "text": [
      "[['AS', 'KS', 'TS', '9S', '7S', 'QH', 'TH', '9H', '6H', 'AD', 'AC', 'TC', '9C'], ['QS', '6S', '5S', '4S', 'KD', '9D', '8D', '7D', '4D', '3D', '2D', '7C', '3C'], ['JS', '3S', '2S', 'KH', '8H', '2H', 'QD', '5D', 'KC', 'JC', '6C', '5C', '2C'], ['8S', 'AH', 'JH', '7H', '5H', '4H', '3H', 'JD', 'TD', '6D', 'QC', '8C', '4C']]\n"
     ]
    }
   ],
   "source": [
    "# Grabbing the final bid of a section, which determines the contact\n",
    "finalBids = []\n",
    "for index, bidSet in enumerate(bids):\n",
    "    if any(bidSet):\n",
    "        finalBids.append([x for x in bidSet if x != \"Pass\"])\n",
    "        finalBids[index] = finalBids[index][-1]\n",
    "    else: finalBids[index] = None\n",
    "finalBid = [x for x in [y[-1] for y in bids] if x != \"Pass\"][0]\n",
    "finalBidIndex = finalBids.index(finalBid)\n",
    "\n",
    "\n",
    "numSuits = []\n",
    "for index, bid in enumerate(finalBids):\n",
    "    if bid: consumedBids[index] = True\n",
    "    else: numSuits[index] = None\n",
    "    bidPower, bidSuit = int(bid[0]), bid[1]\n",
    "    totalInSuit = sum([int(b[0]) for b in finalBids if bid[1] == bidSuit])\n",
    "    samples = POWER_TO_DENSITY[bidPower] \n",
    "    samples = max(samples - sum([x for x in generatedHands if bidSuit in x]), 0)\n",
    "    numSuits.append(round(samples * (bidPower / totalInSuit)))\n",
    "\n",
    "for index, bidSet in enumerate(bids):\n",
    "    if len(usedCards[index]) > 0:\n",
    "        generatedHands[index].extend(usedCards[index])\n",
    "    for card in usedCards[index]:\n",
    "        hands.remove(card)\n",
    "    handSubset = random.sample([x for x in hands if bidSuit in x], numSuits[index])\n",
    "    generatedHands[index].extend(handSubset)\n",
    "    for card in handSubset:\n",
    "        hands.remove(card)\n",
    "\n",
    "\n",
    "for index, bidSet in enumerate(generatedHands):\n",
    "    handSubset = random.sample(hands, 13 - len(bidSet))\n",
    "    generatedHands[index].extend(handSubset)\n",
    "    \n",
    "    for card in handSubset:\n",
    "        hands.remove(card)\n",
    "\n",
    "sortedHands = []\n",
    "for hand in generatedHands:\n",
    "    sortedHand = [x for x in hand]\n",
    "    sortedHand.sort(key=functools.cmp_to_key(orderHand), reverse=True)\n",
    "    sortedHands.append(sortedHand)\n",
    "print([[replaceNumbers(y) for y in x] for x in sortedHands])"
   ]
  },
  {
   "cell_type": "code",
   "execution_count": 9,
   "metadata": {},
   "outputs": [],
   "source": [
    "def to_pbn():\n",
    "    deal = f\"{leadingHand}:\"\n",
    "    for hand in sortedHands:\n",
    "        previousSuit = \"S\"\n",
    "        for card in hand:\n",
    "            if previousSuit not in card: deal += \".\"\n",
    "            previousSuit = card[-1]\n",
    "            deal += replaceNumbers(card[:-1])\n",
    "        deal += \" \"\n",
    "    deal = deal.strip()\n",
    "\n",
    "    pbn = f\"\"\"[Event \"#\"]\n",
    "    [Site \"#\"]\n",
    "    [Date \"#\"]\n",
    "    [Round \"#\"]\n",
    "    [Board \"1\"]\n",
    "    [West \"West\"]\n",
    "    [North \"North\"]\n",
    "    [East \"East\"]\n",
    "    [South \"South\"]\n",
    "    [Dealer \"{leadingHand}\"]\n",
    "    [Vulnerable \"None\"]\n",
    "    [Deal \"{deal}\"]\n",
    "    [Declarer \"{handOrder[finalBidIndex]}\"]\n",
    "    [Contract \"{finalBid}\"]\n",
    "    [Result \"#\"]\n",
    "    [HomeTeam \"#\"]\n",
    "    [Room \"Open\"]\n",
    "    [Scoring \"#\"]\n",
    "    [Score \"#\"]\n",
    "    [Stage \"#\"]\n",
    "    [VisitTeam \"#\"]\n",
    "    [Auction \"{leadingHand}\"]\n",
    "    {split_fourths(bids)}\n",
    "    [Play \"{handOrder[1]}\"]\n",
    "    {split_fourths(usedCards, replaceCards = True)}\n",
    "    \"\"\"\n",
    "\n",
    "    with open(\"export.pbn\", \"w\") as f:\n",
    "        f.write(pbn)\n",
    "\n",
    "to_pbn()"
   ]
  }
 ],
 "metadata": {
  "kernelspec": {
   "display_name": "Python 3",
   "language": "python",
   "name": "python3"
  },
  "language_info": {
   "codemirror_mode": {
    "name": "ipython",
    "version": 3
   },
   "file_extension": ".py",
   "mimetype": "text/x-python",
   "name": "python",
   "nbconvert_exporter": "python",
   "pygments_lexer": "ipython3",
   "version": "3.13.0"
  }
 },
 "nbformat": 4,
 "nbformat_minor": 2
}
